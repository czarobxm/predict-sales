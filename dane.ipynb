{
 "cells": [
  {
   "cell_type": "code",
   "execution_count": 2,
   "id": "038f0ab2",
   "metadata": {},
   "outputs": [],
   "source": [
    "import matplotlib.pyplot as plt\n",
    "import pandas as pd\n",
    "import numpy as np\n",
    "\n",
    "from functions import *\n"
   ]
  },
  {
   "cell_type": "code",
   "execution_count": 10,
   "id": "cce57f0d",
   "metadata": {},
   "outputs": [],
   "source": [
    "# unzip data\n",
    "import zipfile\n",
    "with zipfile.ZipFile('data_zip.zip', 'r') as zip_ref:\n",
    "    zip_ref.extractall('data')"
   ]
  },
  {
   "cell_type": "code",
   "execution_count": 3,
   "id": "34dac4c6",
   "metadata": {},
   "outputs": [],
   "source": [
    "# read files from given path\n",
    "tr_data = pd.read_csv(\"data/project2_training_data.csv\")\n",
    "te_data = pd.read_csv(\"data/project2_test_data.csv\")\n"
   ]
  },
  {
   "cell_type": "code",
   "execution_count": 4,
   "id": "79458c12",
   "metadata": {},
   "outputs": [],
   "source": [
    "# delete letters from column 'size'\n",
    "delete_letters(tr_data, 'size')\n",
    "delete_letters(te_data, 'size')\n"
   ]
  },
  {
   "cell_type": "code",
   "execution_count": null,
   "id": "91f4c227",
   "metadata": {},
   "outputs": [],
   "source": [
    "# change nan to 0\n",
    "tr_data = tr_data.fillna(0)"
   ]
  },
  {
   "cell_type": "code",
   "execution_count": 5,
   "id": "bd04ffed",
   "metadata": {},
   "outputs": [],
   "source": [
    "# change numerical values in columns into categorical values\n",
    "cat_into_num(tr_data)\n",
    "cat_into_num(te_data)"
   ]
  },
  {
   "cell_type": "code",
   "execution_count": 6,
   "id": "e715b4e3",
   "metadata": {},
   "outputs": [],
   "source": [
    "# delete correlated\n",
    "indices_to_delete = corr_above_cutoff(tr_data)\n",
    "tr_data = delete_corr(tr_data, indices_to_delete)\n",
    "te_data = delete_corr(te_data, indices_to_delete)"
   ]
  },
  {
   "cell_type": "code",
   "execution_count": 9,
   "id": "05095eeb",
   "metadata": {},
   "outputs": [],
   "source": [
    "# split data into training set and validation set\n",
    "tr_data, val_data = split(tr_data)"
   ]
  },
  {
   "cell_type": "code",
   "execution_count": 10,
   "id": "932bdc9f",
   "metadata": {},
   "outputs": [],
   "source": [
    "# save changes into new files\n",
    "tr_data.to_csv('data/project2_transformed_training_data.csv', index=False)\n",
    "val_data.to_csv('data/project2_transformed_validation_data.csv', index=False)\n",
    "te_data.to_csv('data/project2_transformed_test_data.csv', index=False)"
   ]
  }
 ],
 "metadata": {
  "kernelspec": {
   "display_name": "Python 3 (ipykernel)",
   "language": "python",
   "name": "python3"
  },
  "language_info": {
   "codemirror_mode": {
    "name": "ipython",
    "version": 3
   },
   "file_extension": ".py",
   "mimetype": "text/x-python",
   "name": "python",
   "nbconvert_exporter": "python",
   "pygments_lexer": "ipython3",
   "version": "3.9.7"
  }
 },
 "nbformat": 4,
 "nbformat_minor": 5
}
